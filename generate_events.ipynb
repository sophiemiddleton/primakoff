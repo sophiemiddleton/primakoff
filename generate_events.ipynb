{
 "cells": [
  {
   "cell_type": "markdown",
   "id": "694ce252",
   "metadata": {},
   "source": [
    "Here we use ALP a secondary photon spectrum to produce an ALP event same via the Primakoff mechanism \n",
    "$$ \\gamma N \\to a N $$\n"
   ]
  },
  {
   "cell_type": "code",
   "execution_count": 3,
   "id": "576c8151",
   "metadata": {},
   "outputs": [],
   "source": [
    "import numpy as np\n",
    "import matplotlib.pyplot as plt\n",
    "%matplotlib inline\n",
    "\n",
    "import os\n",
    "import copy\n",
    "from multiprocessing import Pool\n",
    "from functools import partial\n",
    "import tqdm\n",
    "import time\n",
    "from scipy import integrate\n",
    "\n",
    "from scipy.interpolate import interp2d, griddata, interp1d\n",
    "\n",
    "\n",
    "from mc import *\n",
    "from lhe_output import create_LHE_file\n",
    "\n",
    "def alp_width(ma, gag):\n",
    "    \"\"\"\n",
    "    ALP decay width; ma = ALP mass, gag = ALP coupling to photons, defined by the interaction-gag/4 ALP F Ftilde\n",
    "    \"\"\"\n",
    "    return ma**3 * gag**2 / (64. * np.pi)\n",
    "\n",
    "\n",
    "def get_t_integral(ma, mN, A, Z, Egamma):\n",
    "    s = s_term(mN,Egamma)\n",
    "    if s <  (ma+mN)**2:\n",
    "        return np.zeros(2)\n",
    "    t1, t0 = t_bounds(ma, mN, Egamma)\n",
    "\n",
    "    # the integrand is peaked near t0\n",
    "    # choose a new lower bound on the integral that is not super far from the peak to avoid\n",
    "    # integration issues\n",
    "    # the factor 100000 is chosen by hand, and found to give a stable estimate without numerical errrors\n",
    "    t1_approx = max(t1,100000.*t0)\n",
    "    sigma, error = integrate.quad(t_distribution, t1_approx, t0, args = (ma, mN, A, Z, Egamma))\n",
    "    #print(sigma,\"\\t\",error)\n",
    "    \n",
    "    return np.array([sigma, error])\n",
    "\n",
    "\n",
    "def direct_production_cross_section(N_mcpN, photons, ma, mN, A, Z):\n",
    "    \"\"\"\n",
    "    Nmc is number of electron-target collisions simulated\n",
    "    photons is an array of photon 4 vectors from all of those collisisons\n",
    "    \n",
    "    returns cross-section in cm^2\n",
    "    \"\"\"\n",
    "    gag = 1. # 1/GeV\n",
    "    aEM = 1/137.\n",
    "    hbarc = 0.1973269804 *1e-13 #cm * GeV\n",
    "    \n",
    "    r  = 0.\n",
    "  \n",
    "    Egamma_list = photons[:,0]\n",
    "\n",
    "    # Use some fraction of available CPU cores\n",
    "    pool = Pool(int(os.cpu_count()/2))\n",
    "    # partial can be used to specify function arguments that are common for all instances\n",
    "    # if there are no such arguments you dont need to wrap in partial\n",
    "    sigma_list = pool.map(partial(get_t_integral, ma, mN, A, Z), Egamma_list)\n",
    "    pool.close()\n",
    "    sigma_list = np.array(sigma_list)\n",
    "\n",
    "        \n",
    "    r = np.sum(sigma_list[:,0])/N_mcpN\n",
    "    err = np.sum(sigma_list[:,1])/N_mcpN\n",
    "    \n",
    "    \n",
    "    # this factor was taken out of sigma_gamma N to defined t_distribution\n",
    "    sigma_coef = gag**2 * aEM * Z**2 / 8.\n",
    "    result = {}\n",
    "    result['sigma'] = sigma_coef * r * (hbarc)**2 #* n*T_g * sigma_pN\n",
    "    result['error'] = sigma_coef * err * (hbarc)**2 #* n*T_g * sigma_pN\n",
    "    return result\n",
    "\n",
    "def bootstrap_sample(data, Nboots):\n",
    "    rng = np.random.default_rng()\n",
    "    \n",
    "    boostrapped_data = data[rng.integers(0, data.shape[0], size=Nboots)]\n",
    "    \n",
    "    return boostrapped_data"
   ]
  },
  {
   "cell_type": "code",
   "execution_count": 4,
   "id": "74a53286",
   "metadata": {},
   "outputs": [
    {
     "data": {
      "text/plain": [
       "57242"
      ]
     },
     "execution_count": 4,
     "metadata": {},
     "output_type": "execute_result"
    }
   ],
   "source": [
    "ldmx_photons = np.loadtxt('../data_from_sophie.csv',delimiter=',')[:,1:] / 1000. # convert MeV to GeV\n",
    "len(ldmx_photons)"
   ]
  },
  {
   "cell_type": "code",
   "execution_count": 22,
   "id": "1923fa82",
   "metadata": {},
   "outputs": [
    {
     "data": {
      "text/plain": [
       "array([[ 3.68291348e-04,  1.65700912e-04,  5.67990281e-05,\n",
       "        -3.23968500e-04],\n",
       "       [ 2.40511715e-04,  1.09654732e-04, -1.86852589e-05,\n",
       "        -2.13243023e-04],\n",
       "       [ 9.63616490e-04,  1.30189836e-04,  3.49792778e-04,\n",
       "        -8.88398707e-04],\n",
       "       [ 4.78552341e-04,  8.36902410e-05,  1.45112768e-04,\n",
       "        -4.48275119e-04],\n",
       "       [ 5.62177086e-02,  1.55231118e-04, -2.31846482e-04,\n",
       "         5.62170143e-02],\n",
       "       [ 5.10998905e-04, -3.14092547e-04, -9.48087275e-05,\n",
       "        -3.91761512e-04],\n",
       "       [ 1.70782715e-04,  5.34071848e-05, -2.37152036e-05,\n",
       "        -1.60474300e-04],\n",
       "       [ 7.08758652e-04,  1.51427969e-04, -1.92980513e-04,\n",
       "        -6.64956331e-04],\n",
       "       [ 1.32029462e-03, -3.56637567e-04,  2.68410034e-05,\n",
       "        -1.27093160e-03],\n",
       "       [ 5.86881280e-04,  5.03919611e-07, -1.53392914e-06,\n",
       "         5.86879075e-04]])"
      ]
     },
     "execution_count": 22,
     "metadata": {},
     "output_type": "execute_result"
    }
   ],
   "source": [
    "ldmx_photons[np.random.randint(0,ldmx_photons.shape[0],size=10)]"
   ]
  },
  {
   "cell_type": "code",
   "execution_count": 27,
   "id": "908ff031",
   "metadata": {},
   "outputs": [
    {
     "data": {
      "text/plain": [
       "array([[ 1.00908356e-01,  3.73430364e-05,  1.97225958e-05,\n",
       "         1.00908340e-01],\n",
       "       [ 8.93911198e-05,  1.97186265e-05,  1.36795351e-05,\n",
       "        -8.61093402e-05],\n",
       "       [ 3.70398068e-03, -2.09395983e-06,  8.53006355e-06,\n",
       "         3.70397019e-03],\n",
       "       [ 2.14737147e-04, -4.75301519e-05, -3.28672566e-05,\n",
       "         2.06815541e-04],\n",
       "       [ 5.10998905e-04,  5.61194494e-05,  2.96546202e-05,\n",
       "        -5.07041514e-04],\n",
       "       [ 2.04521106e+00, -1.93889296e-03,  1.97315848e-03,\n",
       "         2.04520911e+00],\n",
       "       [ 3.56837578e-02, -1.76266879e-05, -1.01584941e-04,\n",
       "         3.56836090e-02],\n",
       "       [ 3.81474853e-04,  1.27344683e-04, -5.50696328e-05,\n",
       "        -3.55350167e-04],\n",
       "       [ 4.31290054e-03, -4.41959174e-06, -2.61811912e-06,\n",
       "         4.31289768e-03],\n",
       "       [ 3.50636274e-04, -1.17746323e-04, -1.68464661e-04,\n",
       "        -2.84079671e-04]])"
      ]
     },
     "execution_count": 27,
     "metadata": {},
     "output_type": "execute_result"
    }
   ],
   "source": [
    "bootstrap_sample(ldmx_photons, 10)"
   ]
  },
  {
   "cell_type": "code",
   "execution_count": 5,
   "id": "7b6b1959",
   "metadata": {},
   "outputs": [
    {
     "data": {
      "text/plain": [
       "47466"
      ]
     },
     "execution_count": 5,
     "metadata": {},
     "output_type": "execute_result"
    }
   ],
   "source": [
    "ldmx_photons_8GeV = np.loadtxt('../data_from_sophie_8_GeV.csv',delimiter=',')[:,1:] / 1000. # convert MeV to GeV\n",
    "\n",
    "len(ldmx_photons_8GeV)"
   ]
  },
  {
   "cell_type": "code",
   "execution_count": 34,
   "id": "41b6d3c1",
   "metadata": {},
   "outputs": [
    {
     "data": {
      "text/plain": [
       "0.47466"
      ]
     },
     "execution_count": 34,
     "metadata": {},
     "output_type": "execute_result"
    }
   ],
   "source": [
    "len(ldmx_photons_8GeV)/Nboots"
   ]
  },
  {
   "cell_type": "code",
   "execution_count": 36,
   "id": "b41c2dc4",
   "metadata": {
    "scrolled": true
   },
   "outputs": [
    {
     "data": {
      "image/png": "[encoded data removed]",
      "text/plain": [
       "<Figure size 432x288 with 1 Axes>"
      ]
     },
     "metadata": {
      "needs_background": "light"
     },
     "output_type": "display_data"
    }
   ],
   "source": [
    "ebins = np.logspace(-3,np.log10(4),20)\n",
    "ebins = np.logspace(-3,np.log10(8),20)\n",
    "plt.hist(ldmx_photons[:,0],bins=ebins)\n",
    "\n",
    "plt.hist(ldmx_photons_8GeV[:,0],bins=ebins,alpha=0.4)\n",
    "Nboots = 100000\n",
    "plt.hist(bootstrap_sample(ldmx_photons_8GeV, Nboots)[:,0],weights=np.ones(Nboots)*len(ldmx_photons_8GeV)/Nboots,bins=ebins,histtype='step')\n",
    "plt.xscale('log')\n",
    "plt.yscale('log')"
   ]
  },
  {
   "cell_type": "code",
   "execution_count": 11,
   "id": "687cc716",
   "metadata": {},
   "outputs": [
    {
     "data": {
      "text/plain": [
       "(0.11970231648090562, 0.04462141322209581)"
      ]
     },
     "execution_count": 11,
     "metadata": {},
     "output_type": "execute_result"
    }
   ],
   "source": [
    "len(ldmx_photons[ldmx_photons[:,0] > 1e-1])/len(ldmx_photons), len(ldmx_photons_8GeV[ldmx_photons_8GeV[:,0] > 2e-1])/len(ldmx_photons_8GeV)"
   ]
  },
  {
   "cell_type": "code",
   "execution_count": 4,
   "id": "cb3afa90",
   "metadata": {},
   "outputs": [
    {
     "data": {
      "text/plain": [
       "3078"
      ]
     },
     "execution_count": 4,
     "metadata": {},
     "output_type": "execute_result"
    }
   ],
   "source": [
    "len(ldmx_photons_8GeV[ldmx_photons_8GeV[:,0] > 5e-2])"
   ]
  },
  {
   "cell_type": "code",
   "execution_count": 12,
   "id": "d3f0612f",
   "metadata": {},
   "outputs": [
    {
     "data": {
      "image/png": "[encoded data removed]",
      "text/plain": [
       "<Figure size 432x288 with 1 Axes>"
      ]
     },
     "metadata": {
      "needs_background": "light"
     },
     "output_type": "display_data"
    }
   ],
   "source": [
    "ebins = np.logspace(-3,np.log10(8),20)\n",
    "plt.hist(ldmx_photons_8GeV[:,0],bins=ebins)\n",
    "plt.xscale('log')\n",
    "plt.yscale('log')"
   ]
  },
  {
   "cell_type": "markdown",
   "id": "3a8689ba",
   "metadata": {},
   "source": [
    "# Producing the Sample"
   ]
  },
  {
   "cell_type": "code",
   "execution_count": 7,
   "id": "b366c996",
   "metadata": {},
   "outputs": [
    {
     "name": "stdout",
     "output_type": "stream",
     "text": [
      "This took me 0.49497444232304894 minutes to process 57242 events\n"
     ]
    }
   ],
   "source": [
    "\"\"\"\n",
    "Generate events using the low energy sample\n",
    "\"\"\"\n",
    "ma_list = [0.01, 0.05, 0.1, 0.15, 0.2]\n",
    "#ma_list = [0.1]\n",
    "A = 183.84\n",
    "Z = 74 #Tungsten\n",
    "\n",
    "mN = 183.84 * 0.9314941 #For W, GeV\n",
    "hbarc = 1.97327e-13 # GeV mm\n",
    "\n",
    "N_mcpN = 10000 # actual number of pN collisions simulated\n",
    "N_photon_subset = 20000 # number of photons to use to speed up calculation of cross-section\n",
    "direct_events = []\n",
    "xsec_list = []\n",
    "for ma in ma_list:\n",
    "    out_dir_name = \"../primakoff_events_4_GeV/\"+\"m_\" + str(int(np.floor(ma*1000.)))\n",
    "    out_lhe_fname = \"unweighted_events.lhe\"\n",
    "    #os.mkdir(out_dir_name)\n",
    "    \n",
    "    # cross-section and width computed for a fiducial value the coupling\n",
    "    width = alp_width(ma, 1e-3)\n",
    "    ctau = hbarc/width\n",
    "    \n",
    "    result_dict = {}\n",
    "    result_dict['ma'] = ma\n",
    "    result_dict['tau'] = ctau\n",
    "    result_dict['sigma'] = direct_production_cross_section(N_mcpN*len(ldmx_photons[:N_photon_subset])/len(ldmx_photons), ldmx_photons[:N_photon_subset], ma, mN, A, Z)\n",
    "    result_dict['events'] = generate_primakoff_events(ldmx_photons, ma, mN, A, Z,ctau, small_t_cut_over_t0=1000, print_output = True)\n",
    "    direct_events.append(result_dict)\n",
    "    xsec_list.append([ma, result_dict['sigma']['sigma']])\n",
    "    \n",
    "    run_info_str = \"<runinfo>\" + \"\\n\" \\\n",
    "             + \"# Primakoff process: gamma N > a N\\n\" \\\n",
    "             + \"# ALP Mass [GeV] = \" + str(ma) + \"\\n\" \\\n",
    "             + \"# ALP width [GeV] (for gag = 1e-3/GeV) = \" + str(width) + \"\\n\" \\\n",
    "             + \"# ALP decay length [mm] \" + str(ctau) + \"\\n\" \\\n",
    "             + \"# Nucleus Mass [GeV]= \" + str(mN) + \"\\n\" \\\n",
    "             + \"# Nucleus A = \" + str(A) + \"\\n\" \\\n",
    "             + \"# Nucleus Z = \" + str(Z) + \"\\n\" \\\n",
    "             + \"# ALP decay time stored in the vtim (same units as decay length) entry of the record; use this to reconstruct vertex.\" + \"\\n\" \\\n",
    "             + \"# Number of Events: \" + str(len(result_dict['events'])) + \"\\n\" \\\n",
    "             + \"# Integrated weight (for gag = 1e-3/GeV) [pb] : \"+str(result_dict['sigma']['sigma']*1e36*1e-6) + \"\\n\" + \"</runinfo>\" + \"\\n\"\n",
    "    #create_LHE_file(ma, mN, result_dict['events'], out_dir_name+\"/\"+out_lhe_fname, header_str = run_info_str)\n",
    "xsec_list = np.array(xsec_list)"
   ]
  },
  {
   "cell_type": "code",
   "execution_count": 13,
   "id": "f866877e",
   "metadata": {},
   "outputs": [
    {
     "name": "stdout",
     "output_type": "stream",
     "text": [
      "This took me 0.12633628050486248 minutes to process 47466 events\n"
     ]
    }
   ],
   "source": [
    "\"\"\"\n",
    "Generate events using the high-energy sample\n",
    "\"\"\"\n",
    "ma_list = [0.01, 0.05, 0.1, 0.15, 0.2, 0.3, 0.4, 0.5]\n",
    "#ma_list = [0.1]\n",
    "A = 183.84\n",
    "Z = 74 #Tungsten\n",
    "\n",
    "mN = 183.84 * 0.9314941 #For W, GeV\n",
    "hbarc = 1.97327e-13 # GeV mm\n",
    "\n",
    "\n",
    "N_mcpN = 10000 # actual number of pN collisions simulated\n",
    "N_photon_subset = len(ldmx_photons_8GeV) #20000 # number of photons to use to speed up calculation of cross-section\n",
    "direct_events = []\n",
    "xsec_list_8_GeV = []\n",
    "for ma in ma_list:\n",
    "    out_dir_name = \"../primakoff_events_8_GeV/\"+\"m_\" + str(int(np.floor(ma*1000.)))\n",
    "    out_lhe_fname = \"unweighted_events.lhe\"\n",
    "    os.mkdir(out_dir_name)\n",
    "    \n",
    "    # cross-section and width computed for a fiducial value the coupling\n",
    "    width = alp_width(ma, 1e-3)\n",
    "    ctau = hbarc/width\n",
    "    \n",
    "    result_dict = {}\n",
    "    result_dict['ma'] = ma\n",
    "    result_dict['tau'] = ctau\n",
    "    result_dict['sigma'] = direct_production_cross_section(N_mcpN*len(ldmx_photons_8GeV[:N_photon_subset])/len(ldmx_photons_8GeV), ldmx_photons_8GeV[:N_photon_subset], ma, mN, A, Z)\n",
    "    result_dict['events'] = generate_primakoff_events(ldmx_photons_8GeV, ma, mN, A, Z,ctau, small_t_cut_over_t0=1000, print_output = True)\n",
    "    direct_events.append(result_dict)\n",
    "    xsec_list_8_GeV.append([ma, result_dict['sigma']['sigma']])\n",
    "    run_info_str = \"<runinfo>\" + \"\\n\" \\\n",
    "             + \"# Primakoff process: gamma N > a N\\n\" \\\n",
    "             + \"# ALP Mass [GeV] = \" + str(ma) + \"\\n\" \\\n",
    "             + \"# ALP width [GeV] (for gag = 1e-3/GeV) = \" + str(width) + \"\\n\" \\\n",
    "             + \"# ALP decay length [mm] \" + str(ctau) + \"\\n\" \\\n",
    "             + \"# Nucleus Mass [GeV]= \" + str(mN) + \"\\n\" \\\n",
    "             + \"# Nucleus A = \" + str(A) + \"\\n\" \\\n",
    "             + \"# Nucleus Z = \" + str(Z) + \"\\n\" \\\n",
    "             + \"# ALP decay time stored in the vtim (same units as decay length) entry of the record; use this to reconstruct vertex.\" + \"\\n\" \\\n",
    "             + \"# Number of Events: \" + str(len(result_dict['events'])) + \"\\n\" \\\n",
    "             + \"# Integrated weight (for gag = 1e-3/GeV) [pb] : \"+str(result_dict['sigma']['sigma']*1e36*1e-6) + \"\\n\" + \"</runinfo>\" + \"\\n\"\n",
    "    print(run_info_str)\n",
    "    create_LHE_file(ma, mN, result_dict['events'], out_dir_name+\"/\"+out_lhe_fname, header_str = run_info_str)\n",
    "xsec_list_8_GeV = np.array(xsec_list_8_GeV)"
   ]
  },
  {
   "cell_type": "code",
   "execution_count": 7,
   "id": "928616ff",
   "metadata": {
    "scrolled": true
   },
   "outputs": [
    {
     "name": "stderr",
     "output_type": "stream",
     "text": [
      "100%|██████████| 100000/100000 [01:24<00:00, 1184.25it/s]\n"
     ]
    },
    {
     "name": "stdout",
     "output_type": "stream",
     "text": [
      "<runinfo>\n",
      "# Primakoff process: gamma N > a N\n",
      "# ALP Mass [GeV] = 0.01\n",
      "# ALP width [GeV] (for gag = 1e-3/GeV) = 4.97359197162173e-15\n",
      "# ALP decay length [mm] 39.67494742751443\n",
      "# Nucleus Mass [GeV]= 171.245875344\n",
      "# Nucleus A = 183.84\n",
      "# Nucleus Z = 74\n",
      "# ALP decay time stored in the vtim (same units as decay length) entry of the record; use this to reconstruct vertex.\n",
      "# Number of Events: 100000\n",
      "# Integrated weight (for gag = 1e-3/GeV) [pb] : 6094.6959616705\n",
      "</runinfo>\n",
      "\n"
     ]
    },
    {
     "name": "stderr",
     "output_type": "stream",
     "text": [
      "100%|██████████| 100000/100000 [02:02<00:00, 816.41it/s]\n"
     ]
    },
    {
     "name": "stdout",
     "output_type": "stream",
     "text": [
      "<runinfo>\n",
      "# Primakoff process: gamma N > a N\n",
      "# ALP Mass [GeV] = 0.05\n",
      "# ALP width [GeV] (for gag = 1e-3/GeV) = 6.216989964527163e-13\n",
      "# ALP decay length [mm] 0.31739957942011543\n",
      "# Nucleus Mass [GeV]= 171.245875344\n",
      "# Nucleus A = 183.84\n",
      "# Nucleus Z = 74\n",
      "# ALP decay time stored in the vtim (same units as decay length) entry of the record; use this to reconstruct vertex.\n",
      "# Number of Events: 100000\n",
      "# Integrated weight (for gag = 1e-3/GeV) [pb] : 2852.0273344268144\n",
      "</runinfo>\n",
      "\n"
     ]
    },
    {
     "name": "stderr",
     "output_type": "stream",
     "text": [
      "100%|██████████| 100000/100000 [02:40<00:00, 622.69it/s]\n"
     ]
    },
    {
     "name": "stdout",
     "output_type": "stream",
     "text": [
      "<runinfo>\n",
      "# Primakoff process: gamma N > a N\n",
      "# ALP Mass [GeV] = 0.1\n",
      "# ALP width [GeV] (for gag = 1e-3/GeV) = 4.9735919716217305e-12\n",
      "# ALP decay length [mm] 0.03967494742751443\n",
      "# Nucleus Mass [GeV]= 171.245875344\n",
      "# Nucleus A = 183.84\n",
      "# Nucleus Z = 74\n",
      "# ALP decay time stored in the vtim (same units as decay length) entry of the record; use this to reconstruct vertex.\n",
      "# Number of Events: 100000\n",
      "# Integrated weight (for gag = 1e-3/GeV) [pb] : 1533.6101010431466\n",
      "</runinfo>\n",
      "\n"
     ]
    },
    {
     "name": "stderr",
     "output_type": "stream",
     "text": [
      "100%|██████████| 100000/100000 [03:14<00:00, 515.13it/s]\n"
     ]
    },
    {
     "name": "stdout",
     "output_type": "stream",
     "text": [
      "<runinfo>\n",
      "# Primakoff process: gamma N > a N\n",
      "# ALP Mass [GeV] = 0.15\n",
      "# ALP width [GeV] (for gag = 1e-3/GeV) = 1.6785872904223332e-11\n",
      "# ALP decay length [mm] 0.0117555399785228\n",
      "# Nucleus Mass [GeV]= 171.245875344\n",
      "# Nucleus A = 183.84\n",
      "# Nucleus Z = 74\n",
      "# ALP decay time stored in the vtim (same units as decay length) entry of the record; use this to reconstruct vertex.\n",
      "# Number of Events: 100000\n",
      "# Integrated weight (for gag = 1e-3/GeV) [pb] : 954.252284924337\n",
      "</runinfo>\n",
      "\n"
     ]
    },
    {
     "name": "stderr",
     "output_type": "stream",
     "text": [
      "100%|██████████| 100000/100000 [03:29<00:00, 478.41it/s]\n"
     ]
    },
    {
     "name": "stdout",
     "output_type": "stream",
     "text": [
      "<runinfo>\n",
      "# Primakoff process: gamma N > a N\n",
      "# ALP Mass [GeV] = 0.2\n",
      "# ALP width [GeV] (for gag = 1e-3/GeV) = 3.9788735772973844e-11\n",
      "# ALP decay length [mm] 0.004959368428439304\n",
      "# Nucleus Mass [GeV]= 171.245875344\n",
      "# Nucleus A = 183.84\n",
      "# Nucleus Z = 74\n",
      "# ALP decay time stored in the vtim (same units as decay length) entry of the record; use this to reconstruct vertex.\n",
      "# Number of Events: 100000\n",
      "# Integrated weight (for gag = 1e-3/GeV) [pb] : 634.9741683562166\n",
      "</runinfo>\n",
      "\n"
     ]
    },
    {
     "name": "stderr",
     "output_type": "stream",
     "text": [
      "100%|██████████| 100000/100000 [03:50<00:00, 433.08it/s]\n"
     ]
    },
    {
     "name": "stdout",
     "output_type": "stream",
     "text": [
      "<runinfo>\n",
      "# Primakoff process: gamma N > a N\n",
      "# ALP Mass [GeV] = 0.3\n",
      "# ALP width [GeV] (for gag = 1e-3/GeV) = 1.3428698323378666e-10\n",
      "# ALP decay length [mm] 0.00146944249731535\n",
      "# Nucleus Mass [GeV]= 171.245875344\n",
      "# Nucleus A = 183.84\n",
      "# Nucleus Z = 74\n",
      "# ALP decay time stored in the vtim (same units as decay length) entry of the record; use this to reconstruct vertex.\n",
      "# Number of Events: 100000\n",
      "# Integrated weight (for gag = 1e-3/GeV) [pb] : 311.1820365667905\n",
      "</runinfo>\n",
      "\n"
     ]
    },
    {
     "name": "stderr",
     "output_type": "stream",
     "text": [
      "100%|██████████| 100000/100000 [05:02<00:00, 330.99it/s]\n"
     ]
    },
    {
     "name": "stdout",
     "output_type": "stream",
     "text": [
      "<runinfo>\n",
      "# Primakoff process: gamma N > a N\n",
      "# ALP Mass [GeV] = 0.4\n",
      "# ALP width [GeV] (for gag = 1e-3/GeV) = 3.1830988618379075e-10\n",
      "# ALP decay length [mm] 0.000619921053554913\n",
      "# Nucleus Mass [GeV]= 171.245875344\n",
      "# Nucleus A = 183.84\n",
      "# Nucleus Z = 74\n",
      "# ALP decay time stored in the vtim (same units as decay length) entry of the record; use this to reconstruct vertex.\n",
      "# Number of Events: 100000\n",
      "# Integrated weight (for gag = 1e-3/GeV) [pb] : 163.41686468655308\n",
      "</runinfo>\n",
      "\n"
     ]
    },
    {
     "name": "stderr",
     "output_type": "stream",
     "text": [
      "100%|██████████| 100000/100000 [04:14<00:00, 393.26it/s]\n"
     ]
    },
    {
     "name": "stdout",
     "output_type": "stream",
     "text": [
      "<runinfo>\n",
      "# Primakoff process: gamma N > a N\n",
      "# ALP Mass [GeV] = 0.5\n",
      "# ALP width [GeV] (for gag = 1e-3/GeV) = 6.216989964527161e-10\n",
      "# ALP decay length [mm] 0.0003173995794201155\n",
      "# Nucleus Mass [GeV]= 171.245875344\n",
      "# Nucleus A = 183.84\n",
      "# Nucleus Z = 74\n",
      "# ALP decay time stored in the vtim (same units as decay length) entry of the record; use this to reconstruct vertex.\n",
      "# Number of Events: 100000\n",
      "# Integrated weight (for gag = 1e-3/GeV) [pb] : 88.78401355031755\n",
      "</runinfo>\n",
      "\n"
     ]
    }
   ],
   "source": [
    "\"\"\"\n",
    "Generate events using the high-energy sample but boot-strap to have larger statistics\n",
    "Nboots samples will be generated, regardless of the actual number of viable photons in the original photon sample.\n",
    "\"\"\"\n",
    "ma_list = [0.01, 0.05, 0.1, 0.15, 0.2, 0.3, 0.4, 0.5]\n",
    "#ma_list = [0.1]\n",
    "A = 183.84\n",
    "Z = 74 #Tungsten\n",
    "\n",
    "mN = 183.84 * 0.9314941 #For W, GeV\n",
    "hbarc = 1.97327e-13 # GeV mm\n",
    "\n",
    "\n",
    "N_mcpN = 10000 # actual number of pN collisions simulated\n",
    "N_photon_subset = len(ldmx_photons_8GeV) #20000 # number of photons to use to speed up calculation of cross-section\n",
    "\n",
    "Nboots = 100000 # number of samples to generate\n",
    "\n",
    "direct_events = []\n",
    "xsec_list_8_GeV = []\n",
    "for ma in ma_list:\n",
    "    out_dir_name = \"../primakoff_events_8_GeV/\"+\"m_\" + str(int(np.floor(ma*1000.)))\n",
    "    out_lhe_fname = \"unweighted_events.lhe\"\n",
    "    os.mkdir(out_dir_name)\n",
    "    \n",
    "    # cross-section and width computed for a fiducial value the coupling\n",
    "    width = alp_width(ma, 1e-3)\n",
    "    ctau = hbarc/width\n",
    "    \n",
    "    result_dict = {}\n",
    "    result_dict['ma'] = ma\n",
    "    result_dict['tau'] = ctau\n",
    "    result_dict['sigma'] = direct_production_cross_section(N_mcpN*len(ldmx_photons_8GeV[:N_photon_subset])/len(ldmx_photons_8GeV), ldmx_photons_8GeV[:N_photon_subset], ma, mN, A, Z)\n",
    "    \n",
    "    # pick photons that can actually produce an ALP\n",
    "    photon_mask = ldmx_photons_8GeV[:,0] > (ma**2 + 2.*ma*mN)/(2.*mN)\n",
    "    viable_photons = ldmx_photons_8GeV[photon_mask]\n",
    "    bootstrapped_viable_photons = bootstrap_sample(viable_photons, Nboots)\n",
    "    \n",
    "    result_dict['events'] = generate_primakoff_events_in_parallel(bootstrapped_viable_photons,ma, mN, A, Z,ctau, small_t_cut_over_t0=1000, print_output = True)\n",
    "    direct_events.append(result_dict)\n",
    "    xsec_list_8_GeV.append([ma, result_dict['sigma']['sigma']])\n",
    "    run_info_str = \"<runinfo>\" + \"\\n\" \\\n",
    "             + \"# Primakoff process: gamma N > a N\\n\" \\\n",
    "             + \"# ALP Mass [GeV] = \" + str(ma) + \"\\n\" \\\n",
    "             + \"# ALP width [GeV] (for gag = 1e-3/GeV) = \" + str(width) + \"\\n\" \\\n",
    "             + \"# ALP decay length [mm] \" + str(ctau) + \"\\n\" \\\n",
    "             + \"# Nucleus Mass [GeV]= \" + str(mN) + \"\\n\" \\\n",
    "             + \"# Nucleus A = \" + str(A) + \"\\n\" \\\n",
    "             + \"# Nucleus Z = \" + str(Z) + \"\\n\" \\\n",
    "             + \"# ALP decay time stored in the vtim (same units as decay length) entry of the record; use this to reconstruct vertex.\" + \"\\n\" \\\n",
    "             + \"# Number of Events: \" + str(len(result_dict['events'])) + \"\\n\" \\\n",
    "             + \"# Integrated weight (for gag = 1e-3/GeV) [pb] : \"+str(result_dict['sigma']['sigma']*1e36*1e-6) + \"\\n\" + \"</runinfo>\" + \"\\n\"\n",
    "    print(run_info_str)\n",
    "    create_LHE_file(ma, mN, result_dict['events'], out_dir_name+\"/\"+out_lhe_fname, header_str = run_info_str)\n",
    "xsec_list_8_GeV = np.array(xsec_list_8_GeV)"
   ]
  },
  {
   "cell_type": "code",
   "execution_count": 6,
   "id": "aeed8f63",
   "metadata": {},
   "outputs": [
    {
     "data": {
      "image/png": "[encoded data removed]",
      "text/plain": [
       "<Figure size 432x288 with 1 Axes>"
      ]
     },
     "metadata": {
      "needs_background": "light"
     },
     "output_type": "display_data"
    }
   ],
   "source": [
    "#plt.plot(xsec_list[:,0],xsec_list[:,1])\n",
    "plt.plot(xsec_list_8_GeV[:,0],xsec_list_8_GeV[:,1],'-o')\n",
    "plt.xscale('log')\n",
    "plt.yscale('log')"
   ]
  },
  {
   "cell_type": "markdown",
   "id": "55c8af2d",
   "metadata": {},
   "source": [
    "## Sanity Checks of Generated Events"
   ]
  },
  {
   "cell_type": "code",
   "execution_count": 9,
   "id": "c672e22e",
   "metadata": {},
   "outputs": [
    {
     "data": {
      "text/plain": [
       "0.0003173995794201155"
      ]
     },
     "execution_count": 9,
     "metadata": {},
     "output_type": "execute_result"
    }
   ],
   "source": [
    "ctau"
   ]
  },
  {
   "cell_type": "code",
   "execution_count": 7,
   "id": "24e7c75e",
   "metadata": {},
   "outputs": [
    {
     "data": {
      "text/plain": [
       "(1e-05, 1)"
      ]
     },
     "execution_count": 7,
     "metadata": {},
     "output_type": "execute_result"
    },
    {
     "data": {
      "image/png": "[encoded data removed]",
      "text/plain": [
       "<Figure size 432x288 with 1 Axes>"
      ]
     },
     "metadata": {
      "needs_background": "light"
     },
     "output_type": "display_data"
    }
   ],
   "source": [
    "# Consistency check: distribution of decay times matches expectation\n",
    "bins = np.logspace(-3,np.log10(300),30)\n",
    "t_over_ctau_list = np.logspace(-3,np.log10(300),100)\n",
    "\n",
    "gammas = result_dict['events'][:,1,0]/ma\n",
    "gamma_mean = np.mean(gammas)\n",
    "gamma_mean = np.median(gammas)\n",
    "\n",
    "plt.plot(t_over_ctau_list, np.exp(-t_over_ctau_list/gamma_mean)/(gamma_mean))\n",
    "plt.plot(t_over_ctau_list, [np.mean(np.exp(-t_over_ctau/gammas)/(gammas)) for t_over_ctau in t_over_ctau_list])\n",
    "plt.hist(result_dict['events'][:,5,0]/ctau,bins=bins,density=True)\n",
    "plt.xscale('log')\n",
    "plt.yscale('log')\n",
    "plt.ylim([1e-5,1])"
   ]
  },
  {
   "cell_type": "code",
   "execution_count": 8,
   "id": "b1c711ce",
   "metadata": {},
   "outputs": [
    {
     "data": {
      "text/plain": [
       "(array([0.26344624, 0.11620019, 0.0656398 , 0.05410849, 0.04789932,\n",
       "        0.02661073, 0.01951454, 0.03193288, 0.01685346, 0.02749776]),\n",
       " array([ 1.00013123,  2.49332953,  3.98652783,  5.47972614,  6.97292444,\n",
       "         8.46612274,  9.95932104, 11.45251935, 12.94571765, 14.43891595,\n",
       "        15.93211426]),\n",
       " <BarContainer object of 10 artists>)"
      ]
     },
     "execution_count": 8,
     "metadata": {},
     "output_type": "execute_result"
    },
    {
     "data": {
      "image/png": "[encoded data removed]",
      "text/plain": [
       "<Figure size 432x288 with 1 Axes>"
      ]
     },
     "metadata": {
      "needs_background": "light"
     },
     "output_type": "display_data"
    }
   ],
   "source": [
    "# Consistency check: distribution of boost factors matches expectation from Primakoff kinematics (ALP inherits photon energy)\n",
    "plt.hist(result_dict['events'][:,1,0]/ma,density=True)\n",
    "mask = ldmx_photons_8GeV[:,0] > ma\n",
    "plt.hist(ldmx_photons_8GeV[mask][:,0]/ma,density=True,alpha=0.5)"
   ]
  },
  {
   "cell_type": "code",
   "execution_count": null,
   "id": "04769231",
   "metadata": {},
   "outputs": [],
   "source": []
  }
 ],
 "metadata": {
  "kernelspec": {
   "display_name": "Python 3 (ipykernel)",
   "language": "python",
   "name": "python3"
  },
  "language_info": {
   "codemirror_mode": {
    "name": "ipython",
    "version": 3
   },
   "file_extension": ".py",
   "mimetype": "text/x-python",
   "name": "python",
   "nbconvert_exporter": "python",
   "pygments_lexer": "ipython3",
   "version": "3.6.15"
  }
 },
 "nbformat": 4,
 "nbformat_minor": 5
}
